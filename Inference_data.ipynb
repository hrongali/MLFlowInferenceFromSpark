{
 "cells": [
  {
   "cell_type": "code",
   "execution_count": 1,
   "id": "68f258b8-83f9-4aec-8cc7-4f2e3eddc205",
   "metadata": {},
   "outputs": [
    {
     "name": "stderr",
     "output_type": "stream",
     "text": [
      "Setting spark.hadoop.yarn.resourcemanager.principal to hrongali\n",
      "                                                                                \r"
     ]
    },
    {
     "name": "stdout",
     "output_type": "stream",
     "text": [
      "+-------------+----------------+-----------+--------------+---------+-------------------+--------------------+-------+----+---------+-------+\n",
      "|fixed acidity|volatile acidity|citric acid|residual sugar|chlorides|free sulfur dioxide|total sulfur dioxide|density|  pH|sulphates|alcohol|\n",
      "+-------------+----------------+-----------+--------------+---------+-------------------+--------------------+-------+----+---------+-------+\n",
      "|          7.0|            0.27|       0.36|          20.7|    0.045|               45.0|               170.0|  1.001| 3.0|     0.45|    8.8|\n",
      "|          6.3|             0.3|       0.34|           1.6|    0.049|               14.0|               132.0|  0.994| 3.3|     0.49|    9.5|\n",
      "|          8.1|            0.28|        0.4|           6.9|     0.05|               30.0|                97.0| 0.9951|3.26|     0.44|   10.1|\n",
      "|          7.2|            0.23|       0.32|           8.5|    0.058|               47.0|               186.0| 0.9956|3.19|      0.4|    9.9|\n",
      "|          7.2|            0.23|       0.32|           8.5|    0.058|               47.0|               186.0| 0.9956|3.19|      0.4|    9.9|\n",
      "|          8.1|            0.28|        0.4|           6.9|     0.05|               30.0|                97.0| 0.9951|3.26|     0.44|   10.1|\n",
      "|          6.2|            0.32|       0.16|           7.0|    0.045|               30.0|               136.0| 0.9949|3.18|     0.47|    9.6|\n",
      "|          7.0|            0.27|       0.36|          20.7|    0.045|               45.0|               170.0|  1.001| 3.0|     0.45|    8.8|\n",
      "|          6.3|             0.3|       0.34|           1.6|    0.049|               14.0|               132.0|  0.994| 3.3|     0.49|    9.5|\n",
      "|          8.1|            0.22|       0.43|           1.5|    0.044|               28.0|               129.0| 0.9938|3.22|     0.45|   11.0|\n",
      "|          8.1|            0.27|       0.41|          1.45|    0.033|               11.0|                63.0| 0.9908|2.99|     0.56|   12.0|\n",
      "|          8.6|            0.23|        0.4|           4.2|    0.035|               17.0|               109.0| 0.9947|3.14|     0.53|    9.7|\n",
      "|          7.9|            0.18|       0.37|           1.2|     0.04|               16.0|                75.0|  0.992|3.18|     0.63|   10.8|\n",
      "|          6.6|            0.16|        0.4|           1.5|    0.044|               48.0|               143.0| 0.9912|3.54|     0.52|   12.4|\n",
      "|          8.3|            0.42|       0.62|         19.25|     0.04|               41.0|               172.0| 1.0002|2.98|     0.67|    9.7|\n",
      "|          6.6|            0.17|       0.38|           1.5|    0.032|               28.0|               112.0| 0.9914|3.25|     0.55|   11.4|\n",
      "|          6.3|            0.48|       0.04|           1.1|    0.046|               30.0|                99.0| 0.9928|3.24|     0.36|    9.6|\n",
      "|         null|            0.66|       0.48|           1.2|    0.029|               29.0|                75.0| 0.9892|3.33|     0.39|   12.8|\n",
      "|          7.4|            0.34|       0.42|           1.1|    0.033|               17.0|               171.0| 0.9917|3.12|     0.53|   11.3|\n",
      "|          6.5|            0.31|       0.14|           7.5|    0.044|               34.0|               133.0| 0.9955|3.22|      0.5|    9.5|\n",
      "+-------------+----------------+-----------+--------------+---------+-------------------+--------------------+-------+----+---------+-------+\n",
      "only showing top 20 rows\n",
      "\n",
      "root\n",
      " |-- fixed acidity: double (nullable = true)\n",
      " |-- volatile acidity: double (nullable = true)\n",
      " |-- citric acid: double (nullable = true)\n",
      " |-- residual sugar: double (nullable = true)\n",
      " |-- chlorides: double (nullable = true)\n",
      " |-- free sulfur dioxide: double (nullable = true)\n",
      " |-- total sulfur dioxide: double (nullable = true)\n",
      " |-- density: double (nullable = true)\n",
      " |-- pH: double (nullable = true)\n",
      " |-- sulphates: double (nullable = true)\n",
      " |-- alcohol: double (nullable = true)\n",
      "\n"
     ]
    }
   ],
   "source": [
    "from pyspark.sql import SparkSession\n",
    "from pyspark.sql.types import StringType, FloatType, StructField, StructType\n",
    "from pyspark.sql.functions import udf\n",
    "from pyspark.sql.functions import col\n",
    "from pyspark.sql import functions as F\n",
    "from pyspark.sql.functions import *\n",
    "\n",
    "spark = SparkSession.builder.appName('MLflow Model inference example ').getOrCreate()\n",
    "\n",
    "cols=(\"type\",\"quality\")\n",
    "df=spark.read.option(\"header\",True).option(\"inferSchema\",True).csv('/home/cdsw/winequalityN.csv').drop(*cols)\n",
    "df.show()\n",
    "df.count()\n",
    "#rdd.toDF().show()\n",
    "df.printSchema()"
   ]
  },
  {
   "cell_type": "code",
   "execution_count": 13,
   "id": "7edaf18f-9025-4806-9852-d7381cd49dc9",
   "metadata": {},
   "outputs": [
    {
     "name": "stdout",
     "output_type": "stream",
     "text": [
      "1.19.0\n"
     ]
    }
   ],
   "source": [
    "import mlflow\n",
    "import mlflow.pyfunc\n",
    "import pandas as pd\n",
    "from pyspark.sql.functions import struct\n",
    "print(mlflow.__version__)\n",
    "import sklearn"
   ]
  },
  {
   "cell_type": "code",
   "execution_count": 14,
   "id": "263599eb-4738-4b08-b527-a2f2611d7c82",
   "metadata": {},
   "outputs": [],
   "source": [
    "predict = mlflow.pyfunc.spark_udf(spark, \"/home/cdsw/mlmodel/model\")"
   ]
  },
  {
   "cell_type": "code",
   "execution_count": 15,
   "id": "4ab2dfa0-55ea-4bb4-b239-694eef72d2aa",
   "metadata": {},
   "outputs": [],
   "source": [
    "samp_df=df.sample(withReplacement=False, fraction=0.005,seed=42)"
   ]
  },
  {
   "cell_type": "code",
   "execution_count": 16,
   "id": "2941c92a-7ea6-4610-bdb0-c1f1fb704977",
   "metadata": {},
   "outputs": [
    {
     "name": "stderr",
     "output_type": "stream",
     "text": [
      "[Stage 7:>                                                          (0 + 1) / 1]\r"
     ]
    },
    {
     "name": "stdout",
     "output_type": "stream",
     "text": [
      "+-------------+----------------+-----------+--------------+---------+-------------------+--------------------+-------+----+---------+-------+------------------+\n",
      "|fixed acidity|volatile acidity|citric acid|residual sugar|chlorides|free sulfur dioxide|total sulfur dioxide|density|  pH|sulphates|alcohol|        prediction|\n",
      "+-------------+----------------+-----------+--------------+---------+-------------------+--------------------+-------+----+---------+-------+------------------+\n",
      "|          6.7|            0.26|       0.39|           1.1|     0.04|               45.0|               147.0| 0.9935|3.32|     0.58|    9.6|5.1762280178914395|\n",
      "|          5.7|            0.36|       0.21|           6.7|    0.038|               51.0|               166.0| 0.9941|3.29|     0.63|   10.0| 5.139524461297263|\n",
      "|          7.4|            0.25|       0.37|           6.9|     0.02|               14.0|                93.0| 0.9939| 3.0|     0.48|   10.7|5.3928896389154515|\n",
      "|          6.3|            0.21|        0.4|           1.7|    0.031|               48.0|               134.0| 0.9917|3.42|     0.49|   11.5| 5.409175662241502|\n",
      "|          6.3|            0.39|       0.24|           6.9|    0.069|                9.0|               117.0| 0.9942|3.15|     0.35|   10.2|5.2060294250684755|\n",
      "|          8.1|             0.3|       0.49|          12.3|    0.049|               50.0|               144.0| 0.9971|3.09|     0.57|   10.2| 5.263481075720061|\n",
      "|          7.2|            0.25|       0.28|          14.4|    0.055|               55.0|               205.0| 0.9986|3.12|     0.38|    9.0| 4.878781479080761|\n",
      "|          6.5|            0.32|       0.12|          11.5|    0.033|               35.0|               165.0| 0.9974|3.22|     0.32|    9.0| 4.988233913542636|\n",
      "|          6.0|            0.16|        0.3|           6.7|    0.043|               43.0|               153.0| 0.9951|3.63|     0.46|   10.6| 5.215934942239287|\n",
      "|          7.0|            0.22|       0.29|           8.9|     0.05|               24.0|                90.0|0.99556|3.29|     0.46|    9.8| 5.384016235748984|\n",
      "|          6.3|            0.13|       0.42|           1.1|    0.043|               63.0|               146.0|0.99066|3.13|     0.72|   11.2|5.3953203252059865|\n",
      "|          5.6|            0.18|       0.58|          1.25|    0.034|               29.0|               129.0|0.98984|3.51|      0.6|   12.0| 5.384059661679186|\n",
      "|          6.5|            0.32|       0.34|           5.7|    0.044|               27.0|                91.0|0.99184|3.28|      0.6|   12.0| 5.569226556109857|\n",
      "|          5.6|            0.15|       0.26|          5.55|    0.051|               51.0|               139.0|0.99336|3.47|      0.5|   11.0| 5.357880291799686|\n",
      "|          5.8|            0.58|        0.0|           1.5|     0.02|               33.0|                96.0|0.98918|3.29|     0.38|   12.4| 5.604261326391645|\n",
      "|          4.7|            0.67|       0.09|           1.0|     0.02|                5.0|                 9.0|0.98722| 3.3|     0.34|   13.6| 6.012347898553583|\n",
      "|          5.7|           0.265|       0.28|           6.9|    0.036|               46.0|               150.0|0.99299|3.36|     0.44|   10.8|5.2616352415100245|\n",
      "|          6.5|            0.27|       0.19|           6.6|    0.045|               98.0|               175.0|0.99364|3.16|     0.34|   10.1| 5.325865702068658|\n",
      "|          6.3|            0.29|       0.29|           3.3|    0.037|               32.0|               140.0| 0.9895|3.17|     0.36|   12.8| 5.406023639847511|\n",
      "|          6.0|            0.28|       0.29|          19.3|    0.051|               36.0|               174.0|0.99911|3.14|      0.5|    9.0| 4.946892128381561|\n",
      "+-------------+----------------+-----------+--------------+---------+-------------------+--------------------+-------+----+---------+-------+------------------+\n",
      "only showing top 20 rows\n",
      "\n"
     ]
    },
    {
     "name": "stderr",
     "output_type": "stream",
     "text": [
      "                                                                                \r"
     ]
    }
   ],
   "source": [
    "samp_df.withColumn(\"prediction\", predict(struct(\"fixed acidity\", \"volatile acidity\",\"citric acid\",\"residual sugar\",\"chlorides\",\"free sulfur dioxide\",\"total sulfur dioxide\",\"density\",\"pH\",\"sulphates\",\"alcohol\"))).show()\n",
    "\n",
    "#samp_df.withColumn(\"prediction\", predict(struct(\"fixed acidity\", \"volatile acidity\"))).show()"
   ]
  },
  {
   "cell_type": "code",
   "execution_count": null,
   "id": "7f4d3e6f-3891-4fc8-a0e1-2626869dbafb",
   "metadata": {},
   "outputs": [],
   "source": []
  }
 ],
 "metadata": {
  "kernelspec": {
   "display_name": "Python 3 (ipykernel)",
   "language": "python",
   "name": "python3"
  },
  "language_info": {
   "codemirror_mode": {
    "name": "ipython",
    "version": 3
   },
   "file_extension": ".py",
   "mimetype": "text/x-python",
   "name": "python",
   "nbconvert_exporter": "python",
   "pygments_lexer": "ipython3",
   "version": "3.7.13"
  }
 },
 "nbformat": 4,
 "nbformat_minor": 5
}
